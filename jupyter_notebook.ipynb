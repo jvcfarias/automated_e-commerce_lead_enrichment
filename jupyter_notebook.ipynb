{
 "cells": [
  {
   "cell_type": "code",
   "execution_count": 1,
   "metadata": {},
   "outputs": [],
   "source": [
    "#Import mandatory libraries \n",
    "import pandas as pd\n",
    "import requests\n",
    "from bs4 import BeautifulSoup"
   ]
  },
  {
   "cell_type": "code",
   "execution_count": 2,
   "metadata": {},
   "outputs": [
    {
     "name": "stdout",
     "output_type": "stream",
     "text": [
      "200\n"
     ]
    }
   ],
   "source": [
    "r = requests.get('https://httpbin.org/basic-auth/user/pass', auth=(('user', 'pass')))\n",
    "\n",
    "print(r.status_code)"
   ]
  },
  {
   "cell_type": "code",
   "execution_count": 3,
   "metadata": {},
   "outputs": [
    {
     "name": "stdout",
     "output_type": "stream",
     "text": [
      "                             Site\n",
      "0                 casashow.com.br\n",
      "1                winestore.com.br\n",
      "2                     socd.com.br\n",
      "3            ricardoeletro.com.br\n",
      "4                superprix.com.br\n",
      "...                           ...\n",
      "18422     lojademanometros.com.br\n",
      "18423      sisalsulatacado.com.br\n",
      "18424  andersonmaquininhas.com.br\n",
      "18425             zapcloud.com.br\n",
      "18426     lilyfieldfashion.com.br\n",
      "\n",
      "[18427 rows x 1 columns]\n"
     ]
    }
   ],
   "source": [
    "#Read website list, get website name and try to find its instagram page\n",
    "data = pd.read_csv('vtex.txt', sep=' ', header=None, names=[\"Site\"])\n",
    "\n",
    "print(data)"
   ]
  },
  {
   "cell_type": "code",
   "execution_count": 4,
   "metadata": {},
   "outputs": [
    {
     "data": {
      "text/html": [
       "<div>\n",
       "<style scoped>\n",
       "    .dataframe tbody tr th:only-of-type {\n",
       "        vertical-align: middle;\n",
       "    }\n",
       "\n",
       "    .dataframe tbody tr th {\n",
       "        vertical-align: top;\n",
       "    }\n",
       "\n",
       "    .dataframe thead th {\n",
       "        text-align: right;\n",
       "    }\n",
       "</style>\n",
       "<table border=\"1\" class=\"dataframe\">\n",
       "  <thead>\n",
       "    <tr style=\"text-align: right;\">\n",
       "      <th></th>\n",
       "      <th>0</th>\n",
       "      <th>1</th>\n",
       "      <th>2</th>\n",
       "      <th>3</th>\n",
       "    </tr>\n",
       "  </thead>\n",
       "  <tbody>\n",
       "    <tr>\n",
       "      <th>0</th>\n",
       "      <td>casashow</td>\n",
       "      <td>com</td>\n",
       "      <td>br</td>\n",
       "      <td>None</td>\n",
       "    </tr>\n",
       "    <tr>\n",
       "      <th>1</th>\n",
       "      <td>winestore</td>\n",
       "      <td>com</td>\n",
       "      <td>br</td>\n",
       "      <td>None</td>\n",
       "    </tr>\n",
       "    <tr>\n",
       "      <th>2</th>\n",
       "      <td>socd</td>\n",
       "      <td>com</td>\n",
       "      <td>br</td>\n",
       "      <td>None</td>\n",
       "    </tr>\n",
       "    <tr>\n",
       "      <th>3</th>\n",
       "      <td>ricardoeletro</td>\n",
       "      <td>com</td>\n",
       "      <td>br</td>\n",
       "      <td>None</td>\n",
       "    </tr>\n",
       "    <tr>\n",
       "      <th>4</th>\n",
       "      <td>superprix</td>\n",
       "      <td>com</td>\n",
       "      <td>br</td>\n",
       "      <td>None</td>\n",
       "    </tr>\n",
       "    <tr>\n",
       "      <th>...</th>\n",
       "      <td>...</td>\n",
       "      <td>...</td>\n",
       "      <td>...</td>\n",
       "      <td>...</td>\n",
       "    </tr>\n",
       "    <tr>\n",
       "      <th>18422</th>\n",
       "      <td>lojademanometros</td>\n",
       "      <td>com</td>\n",
       "      <td>br</td>\n",
       "      <td>None</td>\n",
       "    </tr>\n",
       "    <tr>\n",
       "      <th>18423</th>\n",
       "      <td>sisalsulatacado</td>\n",
       "      <td>com</td>\n",
       "      <td>br</td>\n",
       "      <td>None</td>\n",
       "    </tr>\n",
       "    <tr>\n",
       "      <th>18424</th>\n",
       "      <td>andersonmaquininhas</td>\n",
       "      <td>com</td>\n",
       "      <td>br</td>\n",
       "      <td>None</td>\n",
       "    </tr>\n",
       "    <tr>\n",
       "      <th>18425</th>\n",
       "      <td>zapcloud</td>\n",
       "      <td>com</td>\n",
       "      <td>br</td>\n",
       "      <td>None</td>\n",
       "    </tr>\n",
       "    <tr>\n",
       "      <th>18426</th>\n",
       "      <td>lilyfieldfashion</td>\n",
       "      <td>com</td>\n",
       "      <td>br</td>\n",
       "      <td>None</td>\n",
       "    </tr>\n",
       "  </tbody>\n",
       "</table>\n",
       "<p>18427 rows × 4 columns</p>\n",
       "</div>"
      ],
      "text/plain": [
       "                         0    1   2     3\n",
       "0                 casashow  com  br  None\n",
       "1                winestore  com  br  None\n",
       "2                     socd  com  br  None\n",
       "3            ricardoeletro  com  br  None\n",
       "4                superprix  com  br  None\n",
       "...                    ...  ...  ..   ...\n",
       "18422     lojademanometros  com  br  None\n",
       "18423      sisalsulatacado  com  br  None\n",
       "18424  andersonmaquininhas  com  br  None\n",
       "18425             zapcloud  com  br  None\n",
       "18426     lilyfieldfashion  com  br  None\n",
       "\n",
       "[18427 rows x 4 columns]"
      ]
     },
     "execution_count": 4,
     "metadata": {},
     "output_type": "execute_result"
    }
   ],
   "source": [
    "pages = data['Site'].str.split('.', expand=True)\n",
    "\n",
    "pages"
   ]
  },
  {
   "cell_type": "code",
   "execution_count": 5,
   "metadata": {},
   "outputs": [
    {
     "data": {
      "text/plain": [
       "RangeIndex(start=0, stop=4, step=1)"
      ]
     },
     "execution_count": 5,
     "metadata": {},
     "output_type": "execute_result"
    }
   ],
   "source": [
    "pages.columns"
   ]
  },
  {
   "cell_type": "code",
   "execution_count": 7,
   "metadata": {},
   "outputs": [
    {
     "data": {
      "text/html": [
       "<div>\n",
       "<style scoped>\n",
       "    .dataframe tbody tr th:only-of-type {\n",
       "        vertical-align: middle;\n",
       "    }\n",
       "\n",
       "    .dataframe tbody tr th {\n",
       "        vertical-align: top;\n",
       "    }\n",
       "\n",
       "    .dataframe thead th {\n",
       "        text-align: right;\n",
       "    }\n",
       "</style>\n",
       "<table border=\"1\" class=\"dataframe\">\n",
       "  <thead>\n",
       "    <tr style=\"text-align: right;\">\n",
       "      <th></th>\n",
       "      <th>Nome do site</th>\n",
       "      <th>1</th>\n",
       "      <th>2</th>\n",
       "      <th>3</th>\n",
       "    </tr>\n",
       "  </thead>\n",
       "  <tbody>\n",
       "    <tr>\n",
       "      <th>0</th>\n",
       "      <td>casashow</td>\n",
       "      <td>com</td>\n",
       "      <td>br</td>\n",
       "      <td>None</td>\n",
       "    </tr>\n",
       "    <tr>\n",
       "      <th>1</th>\n",
       "      <td>winestore</td>\n",
       "      <td>com</td>\n",
       "      <td>br</td>\n",
       "      <td>None</td>\n",
       "    </tr>\n",
       "    <tr>\n",
       "      <th>2</th>\n",
       "      <td>socd</td>\n",
       "      <td>com</td>\n",
       "      <td>br</td>\n",
       "      <td>None</td>\n",
       "    </tr>\n",
       "    <tr>\n",
       "      <th>3</th>\n",
       "      <td>ricardoeletro</td>\n",
       "      <td>com</td>\n",
       "      <td>br</td>\n",
       "      <td>None</td>\n",
       "    </tr>\n",
       "    <tr>\n",
       "      <th>4</th>\n",
       "      <td>superprix</td>\n",
       "      <td>com</td>\n",
       "      <td>br</td>\n",
       "      <td>None</td>\n",
       "    </tr>\n",
       "    <tr>\n",
       "      <th>...</th>\n",
       "      <td>...</td>\n",
       "      <td>...</td>\n",
       "      <td>...</td>\n",
       "      <td>...</td>\n",
       "    </tr>\n",
       "    <tr>\n",
       "      <th>18422</th>\n",
       "      <td>lojademanometros</td>\n",
       "      <td>com</td>\n",
       "      <td>br</td>\n",
       "      <td>None</td>\n",
       "    </tr>\n",
       "    <tr>\n",
       "      <th>18423</th>\n",
       "      <td>sisalsulatacado</td>\n",
       "      <td>com</td>\n",
       "      <td>br</td>\n",
       "      <td>None</td>\n",
       "    </tr>\n",
       "    <tr>\n",
       "      <th>18424</th>\n",
       "      <td>andersonmaquininhas</td>\n",
       "      <td>com</td>\n",
       "      <td>br</td>\n",
       "      <td>None</td>\n",
       "    </tr>\n",
       "    <tr>\n",
       "      <th>18425</th>\n",
       "      <td>zapcloud</td>\n",
       "      <td>com</td>\n",
       "      <td>br</td>\n",
       "      <td>None</td>\n",
       "    </tr>\n",
       "    <tr>\n",
       "      <th>18426</th>\n",
       "      <td>lilyfieldfashion</td>\n",
       "      <td>com</td>\n",
       "      <td>br</td>\n",
       "      <td>None</td>\n",
       "    </tr>\n",
       "  </tbody>\n",
       "</table>\n",
       "<p>18427 rows × 4 columns</p>\n",
       "</div>"
      ],
      "text/plain": [
       "              Nome do site    1   2     3\n",
       "0                 casashow  com  br  None\n",
       "1                winestore  com  br  None\n",
       "2                     socd  com  br  None\n",
       "3            ricardoeletro  com  br  None\n",
       "4                superprix  com  br  None\n",
       "...                    ...  ...  ..   ...\n",
       "18422     lojademanometros  com  br  None\n",
       "18423      sisalsulatacado  com  br  None\n",
       "18424  andersonmaquininhas  com  br  None\n",
       "18425             zapcloud  com  br  None\n",
       "18426     lilyfieldfashion  com  br  None\n",
       "\n",
       "[18427 rows x 4 columns]"
      ]
     },
     "execution_count": 7,
     "metadata": {},
     "output_type": "execute_result"
    }
   ],
   "source": [
    "pages = pages.rename({0:'Nome do site'}, axis=1)\n",
    "\n",
    "pages"
   ]
  },
  {
   "cell_type": "code",
   "execution_count": 8,
   "metadata": {},
   "outputs": [
    {
     "name": "stdout",
     "output_type": "stream",
     "text": [
      "https://www.instagram.com/casashow\n",
      "45K \n"
     ]
    }
   ],
   "source": [
    "#Number of instagram followers\n",
    "for page in pages['Nome do site']:\n",
    "    page_instagram = 'https://www.instagram.com/' + page\n",
    "    print(page_instagram)\n",
    "    r = requests.get(page_instagram)\n",
    "    soup = BeautifulSoup(r.content)\n",
    "    followers = soup.find('meta', {'name': 'description'})['content']\n",
    "    follower_count = followers.split('Followers')[0]\n",
    "    print(follower_count)\n",
    "    break"
   ]
  }
 ],
 "metadata": {
  "kernelspec": {
   "display_name": "Python 3.10.8 64-bit (microsoft store)",
   "language": "python",
   "name": "python3"
  },
  "language_info": {
   "codemirror_mode": {
    "name": "ipython",
    "version": 3
   },
   "file_extension": ".py",
   "mimetype": "text/x-python",
   "name": "python",
   "nbconvert_exporter": "python",
   "pygments_lexer": "ipython3",
   "version": "3.10.8"
  },
  "orig_nbformat": 4,
  "vscode": {
   "interpreter": {
    "hash": "7495c57aa5f97eed92fcd320f59f0f143189dbc91c3b84570c8750ed2fc5c3d6"
   }
  }
 },
 "nbformat": 4,
 "nbformat_minor": 2
}
